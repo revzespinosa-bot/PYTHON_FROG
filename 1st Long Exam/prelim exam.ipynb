{
 "cells": [
  {
   "cell_type": "markdown",
   "id": "d616afe1-a5e9-4b5e-aef5-f2d3ae671afc",
   "metadata": {},
   "source": [
    "# 1st Long Exam\n",
    "# Revo II B Espinosa ID:23821150"
   ]
  },
  {
   "cell_type": "code",
   "execution_count": 1,
   "id": "dee5dfc1-fb6a-4f46-8d25-ad3c970b4a2e",
   "metadata": {},
   "outputs": [
    {
     "name": "stdin",
     "output_type": "stream",
     "text": [
      "Please enter your name:  Revo\n"
     ]
    },
    {
     "name": "stdout",
     "output_type": "stream",
     "text": [
      "Hello  Revo  !\n"
     ]
    }
   ],
   "source": [
    "name = (input(\"Please enter your name: \"))\n",
    "print(\"Hello \", name ,\" !\")"
   ]
  },
  {
   "cell_type": "code",
   "execution_count": 5,
   "id": "c201a4f5-5cb9-4063-9deb-59901db5249c",
   "metadata": {},
   "outputs": [
    {
     "name": "stdin",
     "output_type": "stream",
     "text": [
      "Enter a positive number:  2\n"
     ]
    },
    {
     "name": "stdout",
     "output_type": "stream",
     "text": [
      "The sum is :   3.0\n"
     ]
    },
    {
     "name": "stdin",
     "output_type": "stream",
     "text": [
      "Enter a positive number:  3\n"
     ]
    },
    {
     "name": "stdout",
     "output_type": "stream",
     "text": [
      "The sum is :   6.0\n"
     ]
    }
   ],
   "source": [
    "for n in (1,10):\n",
    "    num = int(input(\"Enter a positive number: \"))\n",
    "    if (num > 0):\n",
    "        sum = num * (num + 1) / 2\n",
    "        print (\"The sum is :  \", sum)"
   ]
  },
  {
   "cell_type": "code",
   "execution_count": 6,
   "id": "56d2a562-4f86-4095-ab3c-1e82e0abd32d",
   "metadata": {},
   "outputs": [
    {
     "ename": "SyntaxError",
     "evalue": "invalid syntax (352321902.py, line 2)",
     "output_type": "error",
     "traceback": [
      "\u001b[1;36m  Cell \u001b[1;32mIn[6], line 2\u001b[1;36m\u001b[0m\n\u001b[1;33m    if(l == \"A\"||\"a\"||\"E\"||\"e\"||\"I\"||\"i\"||\"O\"||\"o\"||\"U\"||\"u\"):\u001b[0m\n\u001b[1;37m                ^\u001b[0m\n\u001b[1;31mSyntaxError\u001b[0m\u001b[1;31m:\u001b[0m invalid syntax\n"
     ]
    }
   ],
   "source": [
    "l = input(\"Enter a letter: \")\n",
    "if(l == \"A\"||\"a\"||\"E\"||\"e\"||\"I\"||\"i\"||\"O\"||\"o\"||\"U\"||\"u\"):\n",
    "    print(\"You entered a Vowel!\")\n",
    "elif (l == \"Y\" || \"y\"):\n",
    "    print(\"Sometimes i is a vowel, and sometimes y is a consonant!\")\n",
    "else\n",
    "    print(\"You entered a consonant!\")"
   ]
  },
  {
   "cell_type": "code",
   "execution_count": null,
   "id": "b96c1833-261a-4fa9-bd66-a217a0123428",
   "metadata": {},
   "outputs": [],
   "source": []
  }
 ],
 "metadata": {
  "kernelspec": {
   "display_name": "Python [conda env:base] *",
   "language": "python",
   "name": "conda-base-py"
  },
  "language_info": {
   "codemirror_mode": {
    "name": "ipython",
    "version": 3
   },
   "file_extension": ".py",
   "mimetype": "text/x-python",
   "name": "python",
   "nbconvert_exporter": "python",
   "pygments_lexer": "ipython3",
   "version": "3.13.5"
  }
 },
 "nbformat": 4,
 "nbformat_minor": 5
}
