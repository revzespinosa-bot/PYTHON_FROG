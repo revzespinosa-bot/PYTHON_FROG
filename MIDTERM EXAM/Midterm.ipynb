{
 "cells": [
  {
   "cell_type": "markdown",
   "id": "0f8961b6-7e27-4d84-a37d-c7a59ea5826f",
   "metadata": {},
   "source": [
    "# MIDTERM EXAM | DATE: OCTOBER 22, 2025"
   ]
  },
  {
   "cell_type": "markdown",
   "id": "83394292-0a10-4041-92c8-7fc7579f75a2",
   "metadata": {},
   "source": [
    "# Espino"
   ]
  },
  {
   "cell_type": "markdown",
   "id": "3228ee0d-993e-4a46-b5bc-aa412c70fab3",
   "metadata": {},
   "source": [
    "# Q1"
   ]
  },
  {
   "cell_type": "raw",
   "id": "7541d78e-0d2e-47ca-9588-4a0de9bdc2b8",
   "metadata": {},
   "source": [
    "Prompt (paste verbatim)\n",
    "\n",
    "Write a Python function normalize_and_find(text, needle) that trims both ends of text, lowercases it, then returns the index of the first occurrence of needle. Use a safe search that returns -1 when not found. Add a few asserts."
   ]
  },
  {
   "cell_type": "markdown",
   "id": "b7adaa4f-67e8-4bd5-b47d-c62fcb242901",
   "metadata": {},
   "source": [
    "# ChatGPT Code (paste verbatim)"
   ]
  },
  {
   "cell_type": "code",
   "execution_count": 87,
   "id": "e06f16f8-9135-4d44-8b3a-b7ecd5e70e21",
   "metadata": {},
   "outputs": [
    {
     "name": "stdout",
     "output_type": "stream",
     "text": [
      "0\n",
      "-1\n"
     ]
    }
   ],
   "source": [
    "def normalize_and_find(text: str, needle: str) -> int:\n",
    "    s = text.strip().lower()\n",
    "    return s.find(needle)\n",
    "\n",
    "# quick tests\n",
    "print(normalize_and_find(\"  Hello World  \", \"hello\"))\n",
    "print(normalize_and_find(\"No match here\", \"s\"))\n"
   ]
  },
  {
   "cell_type": "raw",
   "id": "5636b103-8ecf-431a-bcb7-c3c69ad95d37",
   "metadata": {},
   "source": [
    "Critique\n",
    "\n",
    "Correctness: Lowers text but does not lower needle, so case-insensitive match may fail (e.g., “World”). Uses find, which safely returns -1. Behaves incorrectly for case-insensitive spec.\n",
    "\n",
    "Complexity: strip() and lower() are O(n); find is O(n·m) worst-case with efficient implementations; overall O(n+m) average practical; O(1) extra space (new strings due to immutability).\n",
    "\n",
    "Robustness: Works on empty strings. Does not validate types (acceptable per spec). Returning -1 meets “safe search”.\n",
    "\n",
    "Readability/Style: Clear and short; could add docstring and lower the needle; add tests for edge cases (empty needle, all-whitespace).\n",
    "\n",
    "Faithfulness: Uses strip, lower, find consistent with lecture notes; needs explicit mention of find vs index: index raises ValueError if absent; find returns -1, which avoids exception handling but requires checking -1 downstream."
   ]
  },
  {
   "cell_type": "markdown",
   "id": "7a9606c4-d613-45e5-a83c-4dc25f0f4ede",
   "metadata": {},
   "source": [
    "# Improved Code"
   ]
  },
  {
   "cell_type": "code",
   "execution_count": 36,
   "id": "bef953ec-36bf-4a25-b08a-f00c83399f63",
   "metadata": {},
   "outputs": [
    {
     "name": "stdout",
     "output_type": "stream",
     "text": [
      "454l!\n"
     ]
    }
   ],
   "source": [
    "def translate(text: str, mapping: dict[str, str]) -> str:\n",
    "    # simple approach: replace in a loop\n",
    "    result = text\n",
    "    for k, v in mapping.items():\n",
    "        result = result.replace(k, v)\n",
    "    return result\n",
    "\n",
    "print(translate(\"akal!\", {\"a\":\"4\",\"e\":\"3\",\"k\":\"5\"}))\n"
   ]
  },
  {
   "cell_type": "markdown",
   "id": "2fe99994-e6fc-4b28-9d9c-2faed48c4548",
   "metadata": {},
   "source": [
    "# Q2"
   ]
  },
  {
   "cell_type": "raw",
   "id": "96079116-3b99-4a64-a06d-f9b194181ea9",
   "metadata": {},
   "source": [
    "Prompt (paste verbatim)\n",
    "\n",
    "Make translate(text, mapping) that only applies mapping to lowercase letters (leave others unchanged). Be efficient (avoid repeated concatenation). Include quick tests."
   ]
  },
  {
   "cell_type": "markdown",
   "id": "c7f07f90-93b8-4758-b3f7-a4901d864a3a",
   "metadata": {},
   "source": [
    "# ChatGPT Code (paste verbatim)"
   ]
  },
  {
   "cell_type": "code",
   "execution_count": 90,
   "id": "a70b8861-550b-439e-8f6c-512cad424774",
   "metadata": {},
   "outputs": [
    {
     "name": "stdout",
     "output_type": "stream",
     "text": [
      "4X3!5\n"
     ]
    }
   ],
   "source": [
    "def translate(text: str, mapping: dict[str, str]) -> str:\n",
    "    # simple approach: replace in a loop\n",
    "    result = text\n",
    "    for k, v in mapping.items():\n",
    "        result = result.replace(k, v)\n",
    "    return result\n",
    "\n",
    "print(translate(\"aXe!k\", {\"a\":\"4\",\"e\":\"3\",\"k\":\"5\"}))\n"
   ]
  },
  {
   "cell_type": "raw",
   "id": "19dad720-5697-41cf-915d-dc9bb8a241cd",
   "metadata": {},
   "source": [
    "Critique\n",
    "\n",
    "Correctness: Applies mapping globally but also transforms uppercase (because .replace(\"a\",\"4\") will not affect uppercase, but it will incorrectly transform occurrences after prior replacements if keys overlap; also spec says only lowercase letters should be considered per-character, not global replace). If mapping has overlapping keys (e.g., “e”->“3” and later something involving “3”), repeated replaces can cascade.\n",
    "\n",
    "Complexity: Multiple passes over the string (k passes), O(k·n). Due to immutability, each replace creates a new string, increasing allocations.\n",
    "\n",
    "Robustness: Leaves non-lowercase unchanged, but behavior depends on mapping contents; no type checks.\n",
    "\n",
    "Readability/Style: Prefer per-character transformation with list accumulation and \"\".join(...).\n",
    "\n",
    "Faithfulness: Our lectures emphasize strings are immutable; show list/join to avoid quadratic behavior."
   ]
  },
  {
   "cell_type": "markdown",
   "id": "514df8bd-38a9-45d9-86d6-9288547d9649",
   "metadata": {},
   "source": [
    "# Improved Code"
   ]
  },
  {
   "cell_type": "code",
   "execution_count": 104,
   "id": "9368b49b-0b95-4247-acdb-36e740b6b3f2",
   "metadata": {},
   "outputs": [
    {
     "name": "stdout",
     "output_type": "stream",
     "text": [
      "4X3!5.\n"
     ]
    }
   ],
   "source": [
    "from typing import Dict\n",
    "\n",
    "def translate(text: str, mapping: Dict[str, str]) -> str:\n",
    "    \"\"\"Apply mapping only to lowercase letters; others unchanged.\"\"\"\n",
    "    out_chars = []\n",
    "    for ch in text:\n",
    "        if \"a\" <= ch <= \"z\":  # lowercase only\n",
    "            out_chars.append(mapping.get(ch, ch))\n",
    "        else:\n",
    "            out_chars.append(ch)\n",
    "    return \"\".join(out_chars)\n",
    "\n",
    "if __name__ == \"__main__\":\n",
    "    m = {\"a\": \"4\", \"e\": \"3\", \"o\": \"0\",\"k\":\"5\"}\n",
    "    assert translate(\"akal!\", m) == \"454l!\"\n",
    "    assert translate(\"Hello, world!\", m) == \"H3ll0, w0rld!\"\n",
    "    assert translate(\"\", m) == \"\"\n",
    "    print(translate(\"aXe!k.\",m))\n"
   ]
  },
  {
   "cell_type": "markdown",
   "id": "5a3cccb4-c904-4a77-acd7-b1e80395cdde",
   "metadata": {},
   "source": [
    "# Q3"
   ]
  },
  {
   "cell_type": "raw",
   "id": "870bac79-b5c7-4f12-8072-5872d9f480e9",
   "metadata": {},
   "source": [
    "Prompt (paste verbatim)\n",
    "\n",
    "Write fmt_money(x) that formats a float as currency with commas and 2 decimals using ties-to-even rounding. Show tests for 2.5 and 3.5."
   ]
  },
  {
   "cell_type": "code",
   "execution_count": 93,
   "id": "5bcc8df2-28ff-449f-8b6a-b0c41c9c7185",
   "metadata": {},
   "outputs": [
    {
     "name": "stdout",
     "output_type": "stream",
     "text": [
      "1,234.50\n",
      "2.50 3.50\n"
     ]
    }
   ],
   "source": [
    "def fmt_money(x: float) -> str:\n",
    "    return format(x, \",.2f\")\n",
    "\n",
    "print(fmt_money(1234.5))\n",
    "print(fmt_money(2.5), fmt_money(3.5))\n"
   ]
  },
  {
   "cell_type": "raw",
   "id": "3118f5e1-0a00-4324-89f7-b0240b67f0be",
   "metadata": {},
   "source": [
    "Critique\n",
    "\n",
    "Correctness: format(x, \",.2f\") uses Python’s rounding (ties-to-even) after binary float approximation, so values like 2.675 can display as 2.67 due to representation error. For money, prefer Decimal with ROUND_HALF_EVEN.\n",
    "\n",
    "Complexity: O(d) to format digits; acceptable. Extra overhead converting to Decimal.\n",
    "\n",
    "Robustness: No input validation; acceptable. But recommend converting via Decimal(str(x)) to reduce binary float artifacts when the source is a Python float literal or string input.\n",
    "\n",
    "Readability/Style: Add docstring, tests for ties and representation pitfalls.\n",
    "\n",
    "Faithfulness: Demonstrates formatted printing and discusses FP error."
   ]
  },
  {
   "cell_type": "markdown",
   "id": "0b4fd42d-bb70-448c-9b40-24cf6b43839a",
   "metadata": {},
   "source": [
    "# Improved Code"
   ]
  },
  {
   "cell_type": "code",
   "execution_count": 107,
   "id": "b84bd671-a151-4f95-a5f6-1bdace5e2ef4",
   "metadata": {},
   "outputs": [
    {
     "name": "stdout",
     "output_type": "stream",
     "text": [
      "1,234.56\n",
      "2.50\n",
      "3.50\n"
     ]
    }
   ],
   "source": [
    "from decimal import Decimal, ROUND_HALF_EVEN, InvalidOperation\n",
    "\n",
    "def fmt_money(x: float | str) -> str:\n",
    "    \"\"\"Format as currency with commas and 2 decimals using ties-to-even rounding.\"\"\"\n",
    "    try:\n",
    "        # Convert via str to avoid binary float artifacts (e.g., 2.675).\n",
    "        d = Decimal(str(x)).quantize(Decimal(\"0.01\"), rounding=ROUND_HALF_EVEN)\n",
    "        # Insert commas and 2 decimals\n",
    "        return f\"{d:,.2f}\"\n",
    "    except (InvalidOperation, ValueError) as e:\n",
    "        raise ValueError(f\"Invalid monetary value: {x}\") from e\n",
    "\n",
    "\n",
    "if __name__ == \"__main__\":   \n",
    "    assert fmt_money(\"3.505\") == \"3.50\"   # even hundredths digit -> stays\n",
    "    assert fmt_money(\"3.515\") == \"3.52\"   # odd hundredths digit -> rounds up\n",
    "    assert fmt_money(\"2.675\") == \"2.68\"   # banker’s rounding example\n",
    "    assert fmt_money(1234.5) == \"1,234.50\"\n",
    "    assert fmt_money(2.5) == \"2.50\"       # not a tie for 2 decimals, so stays .50\n",
    "    assert fmt_money(3.5) == \"3.50\"       # also stays .50\n",
    "\n",
    "    print(fmt_money(1234.56))\n",
    "    print(fmt_money(2.5))\n",
    "    print(fmt_money(3.5))"
   ]
  },
  {
   "cell_type": "markdown",
   "id": "2e84361b-308f-4414-a767-842d240b9d49",
   "metadata": {},
   "source": [
    "# Q4"
   ]
  },
  {
   "cell_type": "raw",
   "id": "ee70a3fa-aa61-4c4c-9e3c-8757c29d9692",
   "metadata": {},
   "source": [
    "Prompt (paste verbatim)\n",
    "\n",
    "Write a CLI program exponent.py that reads two numbers, validates them, and prints a ** b. Handle errors nicely. Prefer try/except over str.isdigit. Include a few tests inside main guard."
   ]
  },
  {
   "cell_type": "markdown",
   "id": "e2ba60b0-523f-4cd5-b47f-20cedeb517d9",
   "metadata": {},
   "source": [
    "# ChatGPT Code (paste verbatim)"
   ]
  },
  {
   "cell_type": "code",
   "execution_count": 56,
   "id": "8b2ab556-8267-4fc5-a475-dc176690072c",
   "metadata": {},
   "outputs": [
    {
     "name": "stdin",
     "output_type": "stream",
     "text": [
      "Base:  5\n",
      "Exponent:  2\n"
     ]
    },
    {
     "name": "stdout",
     "output_type": "stream",
     "text": [
      "25.0\n"
     ]
    }
   ],
   "source": [
    "def main():\n",
    "    a = input(\"Base: \")\n",
    "    b = input(\"Exponent: \")\n",
    "    if a.replace(\".\", \"\", 1).isdigit() and b.replace(\".\", \"\", 1).isdigit():\n",
    "        print(float(a) ** float(b))\n",
    "    else:\n",
    "        print(\"Please enter numbers only.\")\n",
    "\n",
    "if __name__ == \"__main__\":\n",
    "    main()\n"
   ]
  },
  {
   "cell_type": "raw",
   "id": "eb5b4eab-8e7e-4b12-87d5-fef122503901",
   "metadata": {},
   "source": [
    "Critique\n",
    "\n",
    "Correctness: isdigit()-style check fails for negatives (e.g., “-2”), scientific notation (“1e3”), and leading/trailing spaces. This is exactly why we prefer try/except float(...).\n",
    "\n",
    "Complexity: O(len(input)) parsing; trivial.\n",
    "\n",
    "Robustness: Poor: rejects valid formats; no exception handling; no messages with context; no exit code differentiation.\n",
    "\n",
    "Readability/Style: Add docstrings, clear messages, and structure (helper function for parse).\n",
    "\n",
    "Faithfulness: Demonstrates why isdigit() is insufficient."
   ]
  },
  {
   "cell_type": "markdown",
   "id": "0fc3b823-47d7-425b-811c-04d355b3f8c5",
   "metadata": {},
   "source": [
    "# Improved Code"
   ]
  },
  {
   "cell_type": "code",
   "execution_count": 61,
   "id": "35e1f412-142f-42e4-971f-f5bd8c9f1d6a",
   "metadata": {},
   "outputs": [
    {
     "name": "stdin",
     "output_type": "stream",
     "text": [
      "Base:  5\n",
      "Exponent:  6\n"
     ]
    },
    {
     "name": "stdout",
     "output_type": "stream",
     "text": [
      "5.0 ** 6.0 = 15625.0\n"
     ]
    }
   ],
   "source": [
    "import sys\n",
    "\n",
    "def parse_float(s: str) -> float:\n",
    "    s = s.strip()\n",
    "    try:\n",
    "        return float(s)\n",
    "    except ValueError as e:\n",
    "        raise ValueError(f\"Invalid number: {s!r}\") from e\n",
    "\n",
    "def main() -> None:\n",
    "    try:\n",
    "        a_str = input(\"Base: \")\n",
    "        b_str = input(\"Exponent: \")\n",
    "        a = parse_float(a_str)\n",
    "        b = parse_float(b_str)\n",
    "        result = a ** b\n",
    "        print(f\"{a} ** {b} = {result}\")\n",
    "    except ValueError as err:\n",
    "        print(f\"Error: {err}\", file=sys.stderr)\n",
    "\n",
    "if __name__ == \"__main__\":\n",
    "    # Manual/simple smoke tests\n",
    "    # (Interactive program—tests here are illustrative and won't run automatically)\n",
    "    # Example valid: 2 and 3 -> 8\n",
    "    # Example valid: -2 and 3 -> -8\n",
    "    # Example valid: 9 and 0.5 -> 3.0\n",
    "    main()\n"
   ]
  },
  {
   "cell_type": "markdown",
   "id": "5a296899-cc42-4922-b4d8-4151d21a4d5b",
   "metadata": {},
   "source": [
    "# Q5"
   ]
  },
  {
   "cell_type": "raw",
   "id": "054692e0-75f2-4189-bfb8-c3e7579ad208",
   "metadata": {},
   "source": [
    "Prompt (paste verbatim)\n",
    "\n",
    "Implement check_password(pw) returning a dict of rule booleans plus overall. Policies: len>=10, at least one upper, lower, digit, one of !@#$%^&*, and no spaces. Also add an input loop that keeps asking until valid or Q/q."
   ]
  },
  {
   "cell_type": "markdown",
   "id": "3819b519-bac2-4249-a458-913c64e02d81",
   "metadata": {},
   "source": [
    "# ChatGPT Code (paste verbatim)"
   ]
  },
  {
   "cell_type": "code",
   "execution_count": 62,
   "id": "5eae04a8-6351-4904-907c-7a34eddaf670",
   "metadata": {},
   "outputs": [
    {
     "name": "stdin",
     "output_type": "stream",
     "text": [
      "Enter password (Q to quit):  q\n"
     ]
    },
    {
     "name": "stdout",
     "output_type": "stream",
     "text": [
      "Bye\n"
     ]
    }
   ],
   "source": [
    "def check_password(pw: str) -> dict:\n",
    "    rules = {\n",
    "        \"length\": len(pw) >= 10,\n",
    "        \"upper\": any(c.isupper() for c in pw),\n",
    "        \"lower\": any(c.islower() for c in pw),\n",
    "        \"digit\": any(c.isdigit() for c in pw),\n",
    "        \"symbol\": any(c in \"!@#$%^&*\" for c in pw),\n",
    "        \"no_spaces\": \" \" not in pw,\n",
    "    }\n",
    "    rules[\"ok\"] = all(rules.values())\n",
    "    return rules\n",
    "\n",
    "def prompt_loop():\n",
    "    while True:\n",
    "        pw = input(\"Enter password (Q to quit): \")\n",
    "        if pw.lower() == \"q\":\n",
    "            print(\"Bye\")\n",
    "            break\n",
    "        r = check_password(pw)\n",
    "        print(r)\n",
    "        if r[\"ok\"]:\n",
    "            print(\"Accepted\")\n",
    "            break\n",
    "\n",
    "if __name__ == \"__main__\":\n",
    "    prompt_loop()\n"
   ]
  },
  {
   "cell_type": "raw",
   "id": "f975c393-a9cb-4e4e-ba8f-2fbfdef6cb42",
   "metadata": {},
   "source": [
    "Critique\n",
    "\n",
    "Correctness: Meets all rules. Good.\n",
    "\n",
    "Complexity: Single pass checks are O(n). Space O(1).\n",
    "\n",
    "Robustness: Accepts empty/space-only strings; handled by rules. Could hide dictionary printing and provide friendlier messages per failed rule; could avoid echoing password on-screen in real systems.\n",
    "\n",
    "Readability/Style: Clear; add docstrings and formatted feedback.\n",
    "\n",
    "Faithfulness: Uses conditionals, any, loop with break, continue is not needed."
   ]
  },
  {
   "cell_type": "markdown",
   "id": "0b414f19-ce06-428c-b2d3-f0e35d5f60c3",
   "metadata": {},
   "source": [
    "# Improved Code"
   ]
  },
  {
   "cell_type": "code",
   "execution_count": 111,
   "id": "b6e42a08-4568-445d-bc48-76507d3f1c60",
   "metadata": {},
   "outputs": [
    {
     "name": "stdout",
     "output_type": "stream",
     "text": [
      "Q5 tests passed.\n"
     ]
    }
   ],
   "source": [
    "from typing import Dict\n",
    "\n",
    "ALLOWED_SYMBOLS = set(\"!@#$%^&*\")\n",
    "\n",
    "def check_password(pw: str) -> Dict[str, bool]:\n",
    "    \"\"\"Return policy flags and overall result for a password.\"\"\"\n",
    "    flags = {\n",
    "        \"length\": len(pw) >= 10,\n",
    "        \"upper\": any(c.isupper() for c in pw),\n",
    "        \"lower\": any(c.islower() for c in pw),\n",
    "        \"digit\": any(c.isdigit() for c in pw),\n",
    "        \"symbol\": any(c in ALLOWED_SYMBOLS for c in pw),\n",
    "        \"no_spaces\": \" \" not in pw,\n",
    "    }\n",
    "    flags[\"ok\"] = all(flags.values())\n",
    "    return flags\n",
    "\n",
    "def prompt_loop() -> None:\n",
    "    \"\"\"Prompt until password is valid or user quits with Q/q.\"\"\"\n",
    "    while True:\n",
    "        pw = input(\"Enter password (Q to quit): \")\n",
    "        if pw.lower() == \"q\":\n",
    "            print(\"Goodbye.\")\n",
    "            break\n",
    "        res = check_password(pw)\n",
    "        if res[\"ok\"]:\n",
    "            print(\"Password accepted.\")\n",
    "            break\n",
    "        else:\n",
    "            print(\"Password not accepted. Failed rules:\")\n",
    "            for k, v in res.items():\n",
    "                if k != \"ok\" and not v:\n",
    "                    print(f\" - {k}\")\n",
    "            print(\"Please try again.\\n\")\n",
    "\n",
    "if __name__ == \"__main__\":\n",
    "    # Simple unit checks\n",
    "    assert check_password(\"Aa1!aaaaaa\")[\"ok\"] is True\n",
    "    assert check_password(\"shortA1!\")[\"ok\"] is False\n",
    "    assert check_password(\"NoDigits!!!!!\")[\"digit\"] is False\n",
    "    assert check_password(\"with space !A1\")[\"no_spaces\"] is False\n",
    "    print(\"Q5 tests passed.\")\n",
    "    # prompt_loop()  # interactive\n"
   ]
  },
  {
   "cell_type": "markdown",
   "id": "6110d872-ecbc-4965-9a1b-186b2e3da117",
   "metadata": {},
   "source": [
    "# Q6"
   ]
  },
  {
   "cell_type": "raw",
   "id": "de2895dd-fd13-414a-8342-b27d23f698e9",
   "metadata": {},
   "source": [
    "Prompt (paste verbatim)\n",
    "\n",
    "Write a roll() that returns 1..6 uniformly. Simulate 100,000 trials of two dice and estimate P(sum==7). Print empirical vs exact. Mention seeding for reproducibility."
   ]
  },
  {
   "cell_type": "markdown",
   "id": "c76624b5-9954-4476-b839-acab70f39cc9",
   "metadata": {},
   "source": [
    "# ChatGPT Code (paste verbatim)"
   ]
  },
  {
   "cell_type": "code",
   "execution_count": 71,
   "id": "45eef483-e0ff-43a9-b33b-4c2492994528",
   "metadata": {},
   "outputs": [
    {
     "name": "stdout",
     "output_type": "stream",
     "text": [
      "Empirical: 0.13986\n",
      "Exact: 0.1388888888888889\n"
     ]
    }
   ],
   "source": [
    "import random\n",
    "\n",
    "def roll() -> int:\n",
    "    return random.randint(1, 6)\n",
    "\n",
    "def main():\n",
    "    trials = 100_000\n",
    "    count = 0\n",
    "    for _ in range(trials):\n",
    "        if roll() + roll() == 6:\n",
    "            count += 1\n",
    "    print(\"Empirical:\", count / trials)\n",
    "    print(\"Exact:\", 5/36)\n",
    "\n",
    "if __name__ == \"__main__\":\n",
    "    main()\n"
   ]
  },
  {
   "cell_type": "raw",
   "id": "64ed7d80-e31c-4caa-8507-7a08b5cdb9e6",
   "metadata": {},
   "source": [
    "Critique\n",
    "\n",
    "Correctness: Correct simulation and exact probability (6 favorable out of 36). Good.\n",
    "\n",
    "Complexity: O(trials); memory O(1).\n",
    "\n",
    "Robustness: No seeding; add optional random.seed(…) for reproducibility. Could parameterize trials.\n",
    "\n",
    "Readability/Style: Add docstrings and format percentages."
   ]
  },
  {
   "cell_type": "markdown",
   "id": "b8de5d4f-38c0-4b1a-a74c-8df55d45705b",
   "metadata": {},
   "source": [
    "# Improved Code"
   ]
  },
  {
   "cell_type": "code",
   "execution_count": 77,
   "id": "73ad723a-30bd-491a-94de-905024546526",
   "metadata": {},
   "outputs": [
    {
     "name": "stdout",
     "output_type": "stream",
     "text": [
      "Empirical P(sum==6): 0.13837\n",
      "Exact P(sum==6):     0.16667\n",
      "Q6 done.\n"
     ]
    }
   ],
   "source": [
    "import random\n",
    "from typing import Tuple\n",
    "\n",
    "def roll() -> int:\n",
    "    \"\"\"Return a fair die outcome in [1, 6].\"\"\"\n",
    "    return random.randint(1, 6)\n",
    "\n",
    "def simulate(trials: int, seed: int | None = None) -> Tuple[float, float]:\n",
    "    \"\"\"Return (empirical_prob_sum7, exact_prob_sum7).\"\"\"\n",
    "    if seed is not None:\n",
    "        random.seed(seed)\n",
    "    count = 0\n",
    "    for _ in range(trials):\n",
    "        if roll() + roll() == 6:\n",
    "            count += 1\n",
    "    empirical = count / trials\n",
    "    exact = 6 / 36\n",
    "    return empirical, exact\n",
    "\n",
    "if __name__ == \"__main__\":\n",
    "    emp, ex = simulate(100_000, seed=42)\n",
    "    print(f\"Empirical P(sum==6): {emp:.5f}\")\n",
    "    print(f\"Exact P(sum==6):     {ex:.5f}\")\n",
    "    print(\"Q6 done.\")\n"
   ]
  },
  {
   "cell_type": "markdown",
   "id": "d008d4df-3373-4980-bfdf-d35207646832",
   "metadata": {},
   "source": [
    "# Q7"
   ]
  },
  {
   "cell_type": "raw",
   "id": "16e16a93-c5be-4a1c-b9c1-14204ad2f38e",
   "metadata": {},
   "source": [
    "Prompt (paste verbatim)\n",
    "\n",
    "Create Vehicle base with color, mileage, fuel_liters. Methods: drive(km, km_per_liter) and refuel(liters). Car and Truck inherit; Truck overrides drive to reduce efficiency (e.g., +10% fuel consumption). Include simple tests."
   ]
  },
  {
   "cell_type": "markdown",
   "id": "bef8251a-185e-4346-b1ca-d1af441f4389",
   "metadata": {},
   "source": [
    "# ChatGPT Code (paste verbatim)"
   ]
  },
  {
   "cell_type": "code",
   "execution_count": 82,
   "id": "9594feb4-e742-4e05-9f7d-0987c29e463b",
   "metadata": {},
   "outputs": [
    {
     "name": "stdout",
     "output_type": "stream",
     "text": [
      "Car drives 100 km at 10 km/L\n",
      " -> Car drove 100 km, fuel left: 0.00 L\n",
      "Truck drives 100 km at 10 km/L (10% worse efficiency)\n",
      " -> Truck drove 90.0 km, fuel left: 0.00 L\n",
      " -> Car refueled, new fuel: 5.00 L\n"
     ]
    }
   ],
   "source": [
    "class Vehicle:\n",
    "    \"\"\"Base class for all vehicles.\"\"\"\n",
    "\n",
    "    def __init__(self, color: str, mileage: float, fuel_liters: float):\n",
    "        self.color = color\n",
    "        self.mileage = mileage\n",
    "        self.fuel_liters = fuel_liters\n",
    "\n",
    "    def drive(self, km: float, km_per_liter: float) -> float:\n",
    "        \"\"\"Drive up to km distance, consuming fuel, never going below 0.\"\"\"\n",
    "        if km < 0 or km_per_liter <= 0:\n",
    "            raise ValueError(\"Distance and efficiency must be positive.\")\n",
    "\n",
    "        max_possible_km = self.fuel_liters * km_per_liter\n",
    "        actual_km = min(km, max_possible_km)\n",
    "        fuel_used = actual_km / km_per_liter\n",
    "        self.mileage += actual_km\n",
    "        self.fuel_liters = max(0.0, self.fuel_liters - fuel_used)\n",
    "        return actual_km\n",
    "\n",
    "    def refuel(self, liters: float) -> None:\n",
    "        \"\"\"Add fuel.\"\"\"\n",
    "        if liters < 0:\n",
    "            raise ValueError(\"Cannot refuel negative liters.\")\n",
    "        self.fuel_liters += liters\n",
    "\n",
    "\n",
    "class Car(Vehicle):\n",
    "    \"\"\"Car inherits from Vehicle with no changes.\"\"\"\n",
    "    pass\n",
    "\n",
    "\n",
    "class Truck(Vehicle):\n",
    "    \"\"\"Truck consumes 10% more fuel (less efficient).\"\"\"\n",
    "    def drive(self, km: float, km_per_liter: float) -> float:\n",
    "        # reduce efficiency by 10%\n",
    "        effective_kpl = km_per_liter * 0.9\n",
    "        return super().drive(km, effective_kpl)\n",
    "\n",
    "\n",
    "# ---- Minimal Test Script ----\n",
    "if __name__ == \"__main__\":\n",
    "    car = Car(\"red\", 0, 10)\n",
    "    truck = Truck(\"blue\", 0, 10)\n",
    "\n",
    "    print(\"Car drives 100 km at 10 km/L\")\n",
    "    car_drive = car.drive(100, 10)\n",
    "    print(f\" -> Car drove {car_drive} km, fuel left: {car.fuel_liters:.2f} L\")\n",
    "\n",
    "    print(\"Truck drives 100 km at 10 km/L (10% worse efficiency)\")\n",
    "    truck_drive = truck.drive(100, 10)\n",
    "    print(f\" -> Truck drove {truck_drive} km, fuel left: {truck.fuel_liters:.2f} L\")\n",
    "\n",
    "    car.refuel(5)\n",
    "    print(f\" -> Car refueled, new fuel: {car.fuel_liters:.2f} L\")\n"
   ]
  },
  {
   "cell_type": "raw",
   "id": "4737a681-f773-4b13-8486-40041c1d998f",
   "metadata": {},
   "source": [
    "Critique\n",
    "\n",
    "Correctness: Fuel update is wrong: subtracts needed = km/km_per_liter even when we cannot drive full km. Should compute fuel consumed based on can_drive, not requested distance. Truck override: passing km_per_liter*0.9 to super() increases efficiency (since denominator smaller?)—actually giving fewer km per liter (worse efficiency) is correct, but the base’s bug remains. Also refuel should validate nonnegative input.\n",
    "\n",
    "Complexity: O(1) operations per call. Fine.\n",
    "\n",
    "Robustness: No input checks; negative liters or negative km could slip through. Keep fuel non-negative and mileage only increased by actual distance.\n",
    "\n",
    "Readability/Style: Add docstrings, type hints, and explicit return values.\n",
    "\n",
    "Faithfulness: Demonstrates inheritance and an override; fix core logic."
   ]
  },
  {
   "cell_type": "markdown",
   "id": "b939ae84-c400-4d06-823f-eb214cccb27e",
   "metadata": {},
   "source": [
    "# Improved Code"
   ]
  },
  {
   "cell_type": "code",
   "execution_count": 2,
   "id": "9e41e926-73c2-4a08-b8fe-7a1da68e8b33",
   "metadata": {},
   "outputs": [
    {
     "name": "stdout",
     "output_type": "stream",
     "text": [
      "Car drives: 30 km\n",
      "Car fuel left: 7.0 L\n",
      "Truck drives: 50 km\n",
      "Truck fuel left: 0.19 L\n"
     ]
    }
   ],
   "source": [
    "class Vehicle:\n",
    "    \"\"\"Base class for all vehicles.\"\"\"\n",
    "    def __init__(self, color: str, mileage: float = 0.0, fuel_liters: float = 0.0):\n",
    "        self.color = color\n",
    "        self.mileage = mileage\n",
    "        self.fuel_liters = fuel_liters\n",
    "\n",
    "    def refuel(self, liters: float) -> None:\n",
    "        \"\"\"Add fuel (liters must be non-negative).\"\"\"\n",
    "        if liters < 0:\n",
    "            raise ValueError(\"Liters must be non-negative.\")\n",
    "        self.fuel_liters += liters\n",
    "\n",
    "    def drive(self, km: float, km_per_liter: float) -> float:\n",
    "        \"\"\"\n",
    "        Drive up to 'km' at the given efficiency.\n",
    "        Never consume more fuel than available.\n",
    "        Returns the actual kilometers driven.\n",
    "        \"\"\"\n",
    "        if km < 0:\n",
    "            raise ValueError(\"Distance must be non-negative.\")\n",
    "        if km_per_liter <= 0:\n",
    "            raise ValueError(\"Efficiency must be positive.\")\n",
    "\n",
    "        max_km_possible = self.fuel_liters * km_per_liter\n",
    "        actual_km = min(km, max_km_possible)\n",
    "        fuel_used = actual_km / km_per_liter\n",
    "\n",
    "        self.mileage += actual_km\n",
    "        self.fuel_liters -= fuel_used\n",
    "        return actual_km\n",
    "\n",
    "\n",
    "class Car(Vehicle):\n",
    "    \"\"\"A normal car with standard efficiency.\"\"\"\n",
    "    pass\n",
    "\n",
    "\n",
    "class Truck(Vehicle):\n",
    "    \"\"\"A truck that is less fuel-efficient (80% efficiency of a car).\"\"\"\n",
    "    EFFICIENCY_FACTOR = 0.8\n",
    "\n",
    "    def drive(self, km: float, km_per_liter: float) -> float:\n",
    "        # Trucks consume more fuel → reduce efficiency\n",
    "        adjusted_efficiency = km_per_liter * self.EFFICIENCY_FACTOR\n",
    "        return super().drive(km, adjusted_efficiency)\n",
    "# --- Usage demo ---\n",
    "if __name__ == \"__main__\":\n",
    "    car = Car(\"red\", mileage=500, fuel_liters=10)\n",
    "    truck = Truck(\"blue\", mileage=4000, fuel_liters=8)\n",
    "\n",
    "    print(\"Car drives:\", car.drive(30, km_per_liter=10), \"km\")\n",
    "    print(\"Car fuel left:\", round(car.fuel_liters, 2), \"L\")\n",
    "\n",
    "    print(\"Truck drives:\", truck.drive(50, km_per_liter=8), \"km\")\n",
    "    print(\"Truck fuel left:\", round(truck.fuel_liters, 2), \"L\")"
   ]
  },
  {
   "cell_type": "markdown",
   "id": "a37db6ec-9bcc-4ea6-8d19-644830ac395e",
   "metadata": {},
   "source": [
    "# Q8\n"
   ]
  },
  {
   "cell_type": "raw",
   "id": "95251d3b-2c69-4565-8c79-fd856c2b486e",
   "metadata": {},
   "source": [
    "Prompt (paste verbatim)\n",
    "\n",
    "Build a Dog class (name, age, breed, bark()) and a Kennel that manages multiple Dogs with add_dog, remove_dog, oldest_dog(), and find_by_breed(breed). Use composition (Kennel has Dogs). Provide minimal tests."
   ]
  },
  {
   "cell_type": "markdown",
   "id": "b8894dbd-c6aa-46c2-ba7a-33a3ec002604",
   "metadata": {},
   "source": [
    "# ChatGPT Code (paste verbatim)"
   ]
  },
  {
   "cell_type": "code",
   "execution_count": 94,
   "id": "0a84d299-6d83-4dee-bc34-0ac73f65e3e1",
   "metadata": {},
   "outputs": [
    {
     "name": "stdout",
     "output_type": "stream",
     "text": [
      "['Fido']\n",
      "Rex\n"
     ]
    }
   ],
   "source": [
    "class Dog:\n",
    "    def __init__(self, name, age, breed):\n",
    "        self.name = name\n",
    "        self.age = age\n",
    "        self.breed = breed\n",
    "    def bark(self):\n",
    "        return \"Woof!\"\n",
    "\n",
    "class Kennel:\n",
    "    def __init__(self):\n",
    "        self.dogs = []\n",
    "    def add_dog(self, d):\n",
    "        self.dogs.append(d)\n",
    "    def remove_dog(self, name):\n",
    "        self.dogs = [d for d in self.dogs if d.name != name]\n",
    "    def oldest_dog(self):\n",
    "        return max(self.dogs, key=lambda d: d.age) if self.dogs else None\n",
    "    def find_by_breed(self, breed):\n",
    "        return [d for d in self.dogs if d.breed == breed]\n",
    "\n",
    "# tests\n",
    "k = Kennel()\n",
    "k.add_dog(Dog(\"Fido\", 3, \"Beagle\"))\n",
    "k.add_dog(Dog(\"Rex\", 5, \"Labrador\"))\n",
    "print([d.name for d in k.find_by_breed(\"Beagle\")])\n",
    "print(k.oldest_dog().name)\n"
   ]
  },
  {
   "cell_type": "raw",
   "id": "7047c5bd-49f5-4386-8d56-7dc9e8a98a4f",
   "metadata": {},
   "source": [
    "Critique\n",
    "\n",
    "Correctness: Satisfies methods. Good.\n",
    "\n",
    "Complexity: All operations linear in number of dogs; acceptable.\n",
    "\n",
    "Robustness: No type checks; remove_dog removes all with matching name—OK but document behavior. Case-sensitive breed match; could normalize.\n",
    "\n",
    "Readability/Style: Add type hints, docstrings, and defensive checks.\n",
    "\n",
    "Faithfulness: Correctly uses composition (Kennel “has many” Dogs). Inheritance would be incorrect here (Kennel is not a Dog)."
   ]
  },
  {
   "cell_type": "markdown",
   "id": "1f04a7d3-1a9f-443a-bd51-d94fd49b9e41",
   "metadata": {},
   "source": [
    "# Improved Code"
   ]
  },
  {
   "cell_type": "code",
   "execution_count": 95,
   "id": "4a5f8360-e47a-4c73-b9cf-016c127be987",
   "metadata": {},
   "outputs": [
    {
     "name": "stdout",
     "output_type": "stream",
     "text": [
      "Q8 tests passed.\n"
     ]
    }
   ],
   "source": [
    "from typing import List, Optional\n",
    "\n",
    "class Dog:\n",
    "    \"\"\"A simple dog.\"\"\"\n",
    "    def __init__(self, name: str, age: int, breed: str) -> None:\n",
    "        if age < 0:\n",
    "            raise ValueError(\"age must be nonnegative\")\n",
    "        self.name = name\n",
    "        self.age = age\n",
    "        self.breed = breed\n",
    "\n",
    "    def bark(self) -> str:\n",
    "        return \"Woof!\"\n",
    "\n",
    "class Kennel:\n",
    "    \"\"\"Kennel managing a collection of Dog instances (composition).\"\"\"\n",
    "    def __init__(self) -> None:\n",
    "        self._dogs: List[Dog] = []\n",
    "\n",
    "    def add_dog(self, dog: Dog) -> None:\n",
    "        if not isinstance(dog, Dog):\n",
    "            raise TypeError(\"Expected a Dog instance\")\n",
    "        self._dogs.append(dog)\n",
    "\n",
    "    def remove_dog(self, name: str) -> int:\n",
    "        \"\"\"Remove all dogs with matching name; return count removed.\"\"\"\n",
    "        before = len(self._dogs)\n",
    "        self._dogs = [d for d in self._dogs if d.name != name]\n",
    "        return before - len(self._dogs)\n",
    "\n",
    "    def oldest_dog(self) -> Optional[Dog]:\n",
    "        return max(self._dogs, key=lambda d: d.age) if self._dogs else None\n",
    "\n",
    "    def find_by_breed(self, breed: str) -> List[Dog]:\n",
    "        b = breed.strip().lower()\n",
    "        return [d for d in self._dogs if d.breed.lower() == b]\n",
    "\n",
    "if __name__ == \"__main__\":\n",
    "    k = Kennel()\n",
    "    k.add_dog(Dog(\"Fido\", 3, \"Beagle\"))\n",
    "    k.add_dog(Dog(\"Rex\", 5, \"Labrador\"))\n",
    "    k.add_dog(Dog(\"Bella\", 5, \"Beagle\"))\n",
    "    assert [d.name for d in k.find_by_breed(\"beagle\")] == [\"Fido\", \"Bella\"]\n",
    "    assert k.oldest_dog().age == 5\n",
    "    assert k.remove_dog(\"Fido\") == 1\n",
    "    print(\"Q8 tests passed.\")\n"
   ]
  },
  {
   "cell_type": "markdown",
   "id": "2979c1a4-fcf8-46c5-9e35-d4e5a7838a5d",
   "metadata": {},
   "source": [
    "# Q9"
   ]
  },
  {
   "cell_type": "raw",
   "id": "f782e489-22c2-461b-bf7c-b140f7427fab",
   "metadata": {},
   "source": [
    "Prompt (paste verbatim)\n",
    "\n",
    "Create a Python package called helpers with two modules:\n",
    "\n",
    "string_utils.py that defines a function shout(s) which uppercases a string.\n",
    "\n",
    "math_utils.py that defines a function area(l, w) returning l * w."
   ]
  },
  {
   "cell_type": "markdown",
   "id": "406593e0-1cd5-40e5-977e-f800414e4c1a",
   "metadata": {},
   "source": [
    "# ChatGPT Code (paste verbatim)"
   ]
  },
  {
   "cell_type": "code",
   "execution_count": 99,
   "id": "8308b232-5bfe-4ebe-80f4-08fbd72496ef",
   "metadata": {},
   "outputs": [
    {
     "name": "stdout",
     "output_type": "stream",
     "text": [
      "AYOOOOO!\n",
      "16\n"
     ]
    }
   ],
   "source": [
    "# --- helpers emulated inline ---\n",
    "\n",
    "# string_utils module\n",
    "class string_utils:\n",
    "    @staticmethod\n",
    "    def shout(s: str) -> str:\n",
    "        return s.upper()\n",
    "\n",
    "# math_utils module\n",
    "class math_utils:\n",
    "    @staticmethod\n",
    "    def area(l: float, w: float) -> float:\n",
    "        return l * w\n",
    "        \n",
    "# --- main program ---\n",
    "import types\n",
    "import sys\n",
    "\n",
    "# Register fake modules in sys.modules so 'import helpers.string_utils' works\n",
    "helpers = types.ModuleType(\"helpers\")\n",
    "helpers.string_utils = string_utils\n",
    "helpers.math_utils = math_utils\n",
    "sys.modules[\"helpers\"] = helpers\n",
    "sys.modules[\"helpers.string_utils\"] = string_utils\n",
    "sys.modules[\"helpers.math_utils\"] = math_utils\n",
    "\n",
    "# --- now the same imports as before ---\n",
    "import helpers.string_utils as su\n",
    "from helpers.math_utils import area\n",
    "\n",
    "print(su.shout(\"AYOOOOO!\"))\n",
    "print(area(4, 4))"
   ]
  },
  {
   "cell_type": "raw",
   "id": "618904fa-8fb9-4ce9-9462-56e38933b1ec",
   "metadata": {},
   "source": [
    "Critique\n",
    "Correctness: The package structure and imports are valid. Functions behave as specified.\n",
    "Complexity: O(1) for both functions.\n",
    "Robustness: No type hints or input checks (e.g., non‑numeric input to area). __init__.py is empty; fine, though exposing a clean package namespace can help.\n",
    "Readability: Minimal comments/docstrings. Function names are clear. Reference: :contentReference[oaicite:15]index=15\n",
    "Faithfulness: Demonstrates imports (import ... as ... and from ... import ...), aligning with our modules/namespace lectures."
   ]
  },
  {
   "cell_type": "markdown",
   "id": "e0e45941-bfb3-4c01-a7ee-c3f3b7323d55",
   "metadata": {},
   "source": [
    "# IMPROVED CODE "
   ]
  },
  {
   "cell_type": "code",
   "execution_count": 101,
   "id": "e1c1a135-3870-497e-a5ae-ee2fcbc0aadb",
   "metadata": {},
   "outputs": [
    {
     "name": "stdout",
     "output_type": "stream",
     "text": [
      "AYOOOOO!\n",
      "16.0\n",
      "16.0\n",
      "Tresmares\n"
     ]
    }
   ],
   "source": [
    "# --- inline package builder (single notebook cell, no files needed) ---\n",
    "from __future__ import annotations\n",
    "import sys\n",
    "import types\n",
    "from typing import Callable, Mapping, Any\n",
    "\n",
    "\n",
    "def register_inline_package(\n",
    "    package_name: str,\n",
    "    modules: Mapping[str, Mapping[str, Any]],\n",
    ") -> None:\n",
    "    \"\"\"\n",
    "    Create an in-memory package and its submodules and register them in sys.modules.\n",
    "    Example:\n",
    "        register_inline_package(\"helpers\", {\n",
    "            \"string_utils\": {\"shout\": shout},\n",
    "            \"math_utils\": {\"area\": area},\n",
    "        })\n",
    "    Then you can `import helpers.string_utils as su` normally.\n",
    "    \"\"\"\n",
    "    # Make (or reuse) the package shell\n",
    "    pkg = sys.modules.get(package_name)\n",
    "    if not isinstance(pkg, types.ModuleType):\n",
    "        pkg = types.ModuleType(package_name)\n",
    "        # mark as a package\n",
    "        pkg.__path__ = []  # type: ignore[attr-defined]\n",
    "        sys.modules[package_name] = pkg\n",
    "\n",
    "    # Expose submodules and attributes\n",
    "    exported = []\n",
    "    for mod_name, attrs in modules.items():\n",
    "        fqmn = f\"{package_name}.{mod_name}\"\n",
    "        mod = types.ModuleType(fqmn)\n",
    "        mod.__package__ = package_name\n",
    "\n",
    "        for attr_name, obj in attrs.items():\n",
    "            setattr(mod, attr_name, obj)\n",
    "\n",
    "        sys.modules[fqmn] = mod\n",
    "        setattr(pkg, mod_name, mod)\n",
    "        exported.append(mod_name)\n",
    "\n",
    "    # Optional: make `from helpers import *` reveal submodules\n",
    "    pkg.__all__ = tuple(exported)\n",
    "\n",
    "\n",
    "# --- utils implementations (plain functions with validation & docs) ---\n",
    "\n",
    "# string_utils.py\n",
    "def shout(s: str) -> str:\n",
    "    \"\"\"Return the input string uppercased.\"\"\"\n",
    "    if not isinstance(s, str):\n",
    "        raise TypeError(\"shout(s): 's' must be a str\")\n",
    "    return s.upper()\n",
    "\n",
    "\n",
    "def titlecase(s: str) -> str:\n",
    "    \"\"\"Return Title Case for the string.\"\"\"\n",
    "    if not isinstance(s, str):\n",
    "        raise TypeError(\"titlecase(s): 's' must be a str\")\n",
    "    return s.title()\n",
    "\n",
    "\n",
    "# math_utils.py\n",
    "def area(l: float, w: float) -> float:\n",
    "    \"\"\"Area of a rectangle (l × w). Both must be finite and non-negative.\"\"\"\n",
    "    for name, v in ((\"l\", l), (\"w\", w)):\n",
    "        if not isinstance(v, (int, float)):\n",
    "            raise TypeError(f\"area({name}): must be int|float\")\n",
    "        if v < 0:\n",
    "            raise ValueError(f\"area({name}): must be non-negative\")\n",
    "    return float(l) * float(w)\n",
    "\n",
    "def perimeter(l: float, w: float) -> float:\n",
    "    \"\"\"Perimeter of a rectangle (2l + 2w).\"\"\"\n",
    "    for name, v in ((\"l\", l), (\"w\", w)):\n",
    "        if not isinstance(v, (int, float)):\n",
    "            raise TypeError(f\"perimeter({name}): must be int|float\")\n",
    "        if v < 0:\n",
    "            raise ValueError(f\"perimeter({name}): must be non-negative\")\n",
    "    return 2.0 * (float(l) + float(w))\n",
    "\n",
    "# --- register the inline package + submodules ---\n",
    "register_inline_package(\n",
    "    \"helpers\",\n",
    "    {\n",
    "        \"string_utils\": {\n",
    "            \"shout\": shout,\n",
    "            \"titlecase\": titlecase,\n",
    "        },\n",
    "        \"math_utils\": {\n",
    "            \"area\": area,\n",
    "            \"perimeter\": perimeter,\n",
    "        },\n",
    "    },\n",
    ")\n",
    "\n",
    "# --- use them with normal imports (exactly like real files) ---\n",
    "import helpers.string_utils as su\n",
    "from helpers.math_utils import area, perimeter\n",
    "\n",
    "print(su.shout(\"AYOOOOO!\"))\n",
    "print(area(4, 4))\n",
    "print(perimeter(4, 4))\n",
    "print(su.titlecase(\"TRESMARES\"))\n",
    "\n",
    "# NOTES: It defines a register_inline_package function that dynamically registers in-memory modules (like helpers.string_utils and helpers.math_utils) in sys.modules,\n",
    "# allowing normal import syntax and organized, reusable helper functions for string and math operations."
   ]
  },
  {
   "cell_type": "markdown",
   "id": "975ccd88-d03f-4fe9-a85d-cad13e44840a",
   "metadata": {},
   "source": [
    "# Q10"
   ]
  },
  {
   "cell_type": "raw",
   "id": "c87ce11b-c20d-4f39-8984-6c0d748c9b29",
   "metadata": {},
   "source": [
    "Prompt (paste verbatim)\n",
    "\n",
    "Write cel_to_far and far_to_cel with type hints and docstrings. Build a CLI that asks which direction (C2F or F2C), parses input safely, and prints the result. Include tests, including the -40 crossover.\n"
   ]
  },
  {
   "cell_type": "markdown",
   "id": "90d27910-cba8-4816-b103-72b3719a92b4",
   "metadata": {},
   "source": [
    "# ChatGPT Code (paste verbatim)"
   ]
  },
  {
   "cell_type": "code",
   "execution_count": 102,
   "id": "1fcca4e3-a364-44a6-af25-f86fec06711e",
   "metadata": {},
   "outputs": [
    {
     "name": "stdin",
     "output_type": "stream",
     "text": [
      "C2F or F2C?  F2C\n",
      "Fahrenheit:  38\n"
     ]
    },
    {
     "name": "stdout",
     "output_type": "stream",
     "text": [
      "3.3333333333333335\n"
     ]
    }
   ],
   "source": [
    "def cel_to_far(c: float) -> float:\n",
    "    return c * 9/5 + 32\n",
    "\n",
    "def far_to_cel(f: float) -> float:\n",
    "    return (f - 32) * 5/9\n",
    "\n",
    "def main():\n",
    "    mode = input(\"C2F or F2C? \").strip().upper()\n",
    "    if mode == \"C2F\":\n",
    "        x = float(input(\"Celsius: \"))\n",
    "        print(cel_to_far(x))\n",
    "    elif mode == \"F2C\":\n",
    "        x = float(input(\"Fahrenheit: \"))\n",
    "        print(far_to_cel(x))\n",
    "    else:\n",
    "        print(\"Unknown mode.\")\n",
    "\n",
    "if __name__ == \"__main__\":\n",
    "    main()\n"
   ]
  },
  {
   "cell_type": "code",
   "execution_count": null,
   "id": "862430c4-0f6c-45b6-8e9b-55dd337d4d4b",
   "metadata": {},
   "outputs": [],
   "source": [
    "Critique\n",
    "\n",
    "Correctness: Formulas are correct.\n",
    "\n",
    "Time/Space Complexity: O(1).\n",
    "\n",
    "Robustness: No error handling for invalid numbers; no docstrings; minimal formatting; no tests.\n",
    "\n",
    "Readability/Style: Add docstrings, type hints, and nice messages.\n",
    "\n",
    "Faithfulness: Demonstrates functions and control flow; we’ll add exceptions and tests."
   ]
  },
  {
   "cell_type": "markdown",
   "id": "1f474b72-9578-4e4d-a74b-bd05ef55eb58",
   "metadata": {},
   "source": [
    "# Improved Code"
   ]
  },
  {
   "cell_type": "code",
   "execution_count": 6,
   "id": "82f93e26-ac25-454c-8e1a-c33330087ce9",
   "metadata": {},
   "outputs": [
    {
     "name": "stdin",
     "output_type": "stream",
     "text": [
      "C2F or F2C?  C2F\n",
      "Celsius:  38\n"
     ]
    },
    {
     "name": "stdout",
     "output_type": "stream",
     "text": [
      "38.0°C is equal to 100.40°F\n"
     ]
    }
   ],
   "source": [
    "def cel_to_far(c: float) -> float:\n",
    "    return c * 9 / 5 + 32\n",
    "\n",
    "def far_to_cel(f: float) -> float:\n",
    "    return (f - 32) * 5 / 9\n",
    "\n",
    "def main():\n",
    "    mode = input(\"C2F or F2C? \").strip().upper()\n",
    "    if mode == \"C2F\":\n",
    "        x = float(input(\"Celsius: \"))\n",
    "        result = cel_to_far(x)\n",
    "        print(f\"{x}°C is equal to {result:.2f}°F\")\n",
    "    elif mode == \"F2C\":\n",
    "        x = float(input(\"Fahrenheit: \"))\n",
    "        result = far_to_cel(x)\n",
    "        print(f\"{x}°F is equal to {result:.2f}°C\")\n",
    "    else:\n",
    "        print(\"Unknown mode. Please enter C2F or F2C.\")\n",
    "\n",
    "if __name__ == \"__main__\":\n",
    "    main()\n"
   ]
  },
  {
   "cell_type": "code",
   "execution_count": null,
   "id": "381891a5-e6f0-4c2d-b0cd-2d01d8a62632",
   "metadata": {},
   "outputs": [],
   "source": []
  }
 ],
 "metadata": {
  "kernelspec": {
   "display_name": "Python [conda env:base] *",
   "language": "python",
   "name": "conda-base-py"
  },
  "language_info": {
   "codemirror_mode": {
    "name": "ipython",
    "version": 3
   },
   "file_extension": ".py",
   "mimetype": "text/x-python",
   "name": "python",
   "nbconvert_exporter": "python",
   "pygments_lexer": "ipython3",
   "version": "3.13.5"
  }
 },
 "nbformat": 4,
 "nbformat_minor": 5
}
